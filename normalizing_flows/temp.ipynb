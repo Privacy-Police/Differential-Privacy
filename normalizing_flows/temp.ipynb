{
 "cells": [
  {
   "cell_type": "code",
   "execution_count": 1,
   "metadata": {
    "collapsed": true
   },
   "outputs": [],
   "source": [
    "import pandas as pd\n",
    "import numpy as np\n",
    "from metrics import pmse"
   ]
  },
  {
   "cell_type": "code",
   "execution_count": 2,
   "outputs": [],
   "source": [
    "power_synth = pd.read_csv('synth_data/Subset_DP_Synth_Data/synth_power.csv')\n",
    "power_org = pd.read_csv('datasets/power_subset.csv')"
   ],
   "metadata": {
    "collapsed": false,
    "pycharm": {
     "name": "#%%\n"
    }
   }
  },
  {
   "cell_type": "code",
   "execution_count": 3,
   "outputs": [
    {
     "name": "stdout",
     "output_type": "stream",
     "text": [
      "Cleaning done\n"
     ]
    }
   ],
   "source": [
    "data_org_clean = power_org.replace([np.inf,-np.inf],np.nan).dropna(axis=0)\n",
    "data_synth_clean = power_synth.replace([np.inf,-np.inf],np.nan).dropna(axis=0)\n",
    "print('Cleaning done')\n",
    "\n"
   ],
   "metadata": {
    "collapsed": false,
    "pycharm": {
     "name": "#%%\n"
    }
   }
  },
  {
   "cell_type": "code",
   "execution_count": 4,
   "outputs": [
    {
     "name": "stdout",
     "output_type": "stream",
     "text": [
      "                 0            1            2            3            4  \\\n",
      "count  3000.000000  3000.000000  3000.000000  3000.000000  3000.000000   \n",
      "mean      1.093274     0.125845   240.897910     4.639067     1.206333   \n",
      "std       1.053319     0.115258     3.179292     4.423427     6.525996   \n",
      "min       0.078000     0.000000   228.010000     0.200000     0.000000   \n",
      "25%       0.309500     0.048000   239.040000     1.400000     0.000000   \n",
      "50%       0.605000     0.102000   241.050000     2.600000     0.000000   \n",
      "75%       1.514000     0.198000   242.922500     6.400000     0.000000   \n",
      "max       6.888000     0.892000   250.840000    30.200000    79.000000   \n",
      "\n",
      "                 5            6            7  \n",
      "count  3000.000000  3000.000000  3000.000000  \n",
      "mean      1.307333     6.606333   714.825448  \n",
      "std       5.608033     8.521359   416.630205  \n",
      "min       0.000000     0.000000     0.558901  \n",
      "25%       0.000000     0.000000   347.723029  \n",
      "50%       0.000000     1.000000   727.030240  \n",
      "75%       1.000000    17.000000  1077.403584  \n",
      "max      72.000000    30.000000  1439.806202  \n",
      "                 0            1            2            3            4  \\\n",
      "count  4000.000000  4000.000000  4000.000000  4000.000000  4000.000000   \n",
      "mean      1.081338     0.130115   240.834547     3.985751     0.168591   \n",
      "std       0.681057     0.106726     3.115336     2.578086     1.358498   \n",
      "min      -0.756513    -0.237799   227.122892    -0.835583    -8.663601   \n",
      "25%       0.588916     0.058716   238.785337     2.104825    -0.148920   \n",
      "50%       0.985821     0.130331   240.861128     3.410636     0.027529   \n",
      "75%       1.475190     0.200480   242.921238     5.316889     0.267786   \n",
      "max       5.509548     0.562898   251.663704    22.983455    31.408133   \n",
      "\n",
      "                 5            6            7  \n",
      "count  4000.000000  4000.000000  4000.000000  \n",
      "mean      0.605968     5.988840   751.293619  \n",
      "std       2.328355     7.169749   395.687545  \n",
      "min     -23.004421   -14.158623  -655.686039  \n",
      "25%      -0.236039     0.960817   487.918419  \n",
      "50%       0.382702     4.104932   753.087872  \n",
      "75%       1.211393     9.381102  1019.289231  \n",
      "max      53.028907    45.170721  2284.283151  \n"
     ]
    }
   ],
   "source": [
    "print(power_org.describe())\n",
    "print(power_synth.describe())"
   ],
   "metadata": {
    "collapsed": false,
    "pycharm": {
     "name": "#%%\n"
    }
   }
  },
  {
   "cell_type": "code",
   "execution_count": 1,
   "outputs": [
    {
     "name": "stdout",
     "output_type": "stream",
     "text": [
      "Traceback (most recent call last):\r\n",
      "  File \"/Users/mansirathod/anaconda3/bin/pip\", line 8, in <module>\r\n",
      "    sys.exit(main())\r\n",
      "  File \"/Users/mansirathod/anaconda3/lib/python3.7/site-packages/pip/_internal/cli/main.py\", line 71, in main\r\n",
      "    command = create_command(cmd_name, isolated=(\"--isolated\" in cmd_args))\r\n",
      "  File \"/Users/mansirathod/anaconda3/lib/python3.7/site-packages/pip/_internal/commands/__init__.py\", line 96, in create_command\r\n",
      "    module = importlib.import_module(module_path)\r\n",
      "  File \"/Users/mansirathod/anaconda3/lib/python3.7/importlib/__init__.py\", line 127, in import_module\r\n",
      "    return _bootstrap._gcd_import(name[level:], package, level)\r\n",
      "  File \"<frozen importlib._bootstrap>\", line 1006, in _gcd_import\r\n",
      "  File \"<frozen importlib._bootstrap>\", line 983, in _find_and_load\r\n",
      "  File \"<frozen importlib._bootstrap>\", line 967, in _find_and_load_unlocked\r\n",
      "  File \"<frozen importlib._bootstrap>\", line 677, in _load_unlocked\r\n",
      "  File \"<frozen importlib._bootstrap_external>\", line 728, in exec_module\r\n",
      "  File \"<frozen importlib._bootstrap>\", line 219, in _call_with_frames_removed\r\n",
      "  File \"/Users/mansirathod/anaconda3/lib/python3.7/site-packages/pip/_internal/commands/install.py\", line 15, in <module>\r\n",
      "    from pip._internal.cli.req_command import RequirementCommand, with_cleanup\r\n",
      "  File \"/Users/mansirathod/anaconda3/lib/python3.7/site-packages/pip/_internal/cli/req_command.py\", line 16, in <module>\r\n",
      "    from pip._internal.index.collector import LinkCollector\r\n",
      "  File \"/Users/mansirathod/anaconda3/lib/python3.7/site-packages/pip/_internal/index/collector.py\", line 16, in <module>\r\n",
      "    from pip._vendor import html5lib, requests\r\n",
      "  File \"/Users/mansirathod/anaconda3/lib/python3.7/site-packages/pip/_vendor/requests/__init__.py\", line 123, in <module>\r\n",
      "    from . import utils\r\n",
      "ImportError: cannot import name 'utils' from 'pip._vendor.requests' (/Users/mansirathod/anaconda3/lib/python3.7/site-packages/pip/_vendor/requests/__init__.py)\r\n"
     ]
    }
   ],
   "source": [],
   "metadata": {
    "collapsed": false,
    "pycharm": {
     "name": "#%%\n"
    }
   }
  },
  {
   "cell_type": "code",
   "execution_count": null,
   "outputs": [],
   "source": [
    "\n"
   ],
   "metadata": {
    "collapsed": false,
    "pycharm": {
     "name": "#%%\n"
    }
   }
  }
 ],
 "metadata": {
  "kernelspec": {
   "display_name": "Python 3",
   "language": "python",
   "name": "python3"
  },
  "language_info": {
   "codemirror_mode": {
    "name": "ipython",
    "version": 2
   },
   "file_extension": ".py",
   "mimetype": "text/x-python",
   "name": "python",
   "nbconvert_exporter": "python",
   "pygments_lexer": "ipython2",
   "version": "2.7.6"
  }
 },
 "nbformat": 4,
 "nbformat_minor": 0
}